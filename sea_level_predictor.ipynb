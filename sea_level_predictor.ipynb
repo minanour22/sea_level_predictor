{
 "cells": [
  {
   "cell_type": "code",
   "execution_count": 1,
   "id": "d7b92e5c-8f0e-4ba6-96b4-0bb562d9738a",
   "metadata": {},
   "outputs": [],
   "source": [

    "import pandas as pd\n",
    "import matplotlib.pyplot as plt\n",
    "import scipy.stats as stats\n",
    "import numpy as np\n",
    "\n",
    "def draw_plot():\n",
    "    # Load data\n",
    "    df = pd.read_csv(\"epa-sea-level.csv\")\n",
    "    \n",
    "    # Create scatter plot\n",
    "    plt.figure(figsize=(10, 5))\n",
    "    plt.scatter(df[\"Year\"], df[\"CSIRO Adjusted Sea Level\"], label=\"Data\", color=\"blue\")\n",
    "    \n",
    "    # Line of best fit for entire dataset\n",
    "    slope, intercept, _, _, _ = stats.linregress(df[\"Year\"], df[\"CSIRO Adjusted Sea Level\"])\n",
    "    years_extended = np.arange(1880, 2051)\n",
    "    plt.plot(years_extended, slope * years_extended + intercept, 'r', label=\"Fit: 1880-2050\")\n",
    "    \n",
    "    # Line of best fit from year 2000 onwards\n",
    "    df_recent = df[df[\"Year\"] >= 2000]\n",
    "    slope_recent, intercept_recent, _, _, _ = stats.linregress(df_recent[\"Year\"], df_recent[\"CSIRO Adjusted Sea Level\"])\n",
    "    years_recent = np.arange(2000, 2051)\n",
    "    plt.plot(years_recent, slope_recent * years_recent + intercept_recent, 'g', label=\"Fit: 2000-2050\")\n",
    "    \n",
    "    # Labels and title\n",
    "    plt.xlabel(\"Year\")\n",
    "    plt.ylabel(\"Sea Level (inches)\")\n",
    "    plt.title(\"Rise in Sea Level\")\n",
    "    plt.legend()\n",
    "    \n",
    "    # Save and return figure\n",
    "    plt.savefig(\"sea_level_plot.png\")\n",
    "    return plt.gca()\n",
    "\n"
   ]
  },
  {
   "cell_type": "code",
   "execution_count": null,
   "id": "6f00268d-ee25-4bbe-8acb-0a09ca770c62",
   "metadata": {},
   "outputs": [],
   "source": []
  }
 ],
 "metadata": {
  "kernelspec": {
   "display_name": "Python 3 (ipykernel)",
   "language": "python",
   "name": "python3"
  },
  "language_info": {
   "codemirror_mode": {
    "name": "ipython",
    "version": 3
   },
   "file_extension": ".py",
   "mimetype": "text/x-python",
   "name": "python",
   "nbconvert_exporter": "python",
   "pygments_lexer": "ipython3",
   "version": "3.12.0"
  },
  "widgets": {
   "application/vnd.jupyter.widget-state+json": {
    "state": {},
    "version_major": 2,
    "version_minor": 0
   }
  }
 },
 "nbformat": 4,
 "nbformat_minor": 5
}
